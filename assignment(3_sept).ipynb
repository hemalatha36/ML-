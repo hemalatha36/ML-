{
  "nbformat": 4,
  "nbformat_minor": 0,
  "metadata": {
    "colab": {
      "name": "assignment(3 sept).ipynb",
      "provenance": [],
      "toc_visible": true,
      "authorship_tag": "ABX9TyN+582YuK7F0HLh03osW1p+",
      "include_colab_link": true
    },
    "kernelspec": {
      "name": "python3",
      "display_name": "Python 3"
    }
  },
  "cells": [
    {
      "cell_type": "markdown",
      "metadata": {
        "id": "view-in-github",
        "colab_type": "text"
      },
      "source": [
        "<a href=\"https://colab.research.google.com/github/hemalatha36/ML-/blob/master/assignment(3_sept).ipynb\" target=\"_parent\"><img src=\"https://colab.research.google.com/assets/colab-badge.svg\" alt=\"Open In Colab\"/></a>"
      ]
    },
    {
      "cell_type": "markdown",
      "metadata": {
        "id": "udVsroWcTXgP",
        "colab_type": "text"
      },
      "source": [
        "#python program to count number of occurences of a word in the sentence"
      ]
    },
    {
      "cell_type": "code",
      "metadata": {
        "id": "--dXX5L3TgZY",
        "colab_type": "code",
        "colab": {
          "base_uri": "https://localhost:8080/",
          "height": 51
        },
        "outputId": "a39609ea-50e8-491d-88de-0656111264bb"
      },
      "source": [
        "a=str(input(\"Enter the sentence: \"))\n",
        "b=dict()\n",
        "c=a.split()\n",
        "for i in c:\n",
        "    if i in b:\n",
        "        b[i]+=1\n",
        "    else:\n",
        "        b[i]=1\n",
        "print(b)"
      ],
      "execution_count": 1,
      "outputs": [
        {
          "output_type": "stream",
          "text": [
            "Enter the sentence: apple is a fruit\n",
            "{'apple': 1, 'is': 1, 'a': 1, 'fruit': 1}\n"
          ],
          "name": "stdout"
        }
      ]
    },
    {
      "cell_type": "markdown",
      "metadata": {
        "id": "OhzPFd9cTvo5",
        "colab_type": "text"
      },
      "source": [
        "#python program to remove duplicate elements from list"
      ]
    },
    {
      "cell_type": "code",
      "metadata": {
        "id": "eB0Fy_6PT1KZ",
        "colab_type": "code",
        "colab": {
          "base_uri": "https://localhost:8080/",
          "height": 119
        },
        "outputId": "c3e1cbdb-174e-4472-dd5c-b89b8e3149ce"
      },
      "source": [
        "n=int(input(\"Enter the size of list \"))\n",
        "a=[]\n",
        "for i in range(n):\n",
        "    a.append(input())\n",
        "b=set(a)\n",
        "print(list(b))"
      ],
      "execution_count": 2,
      "outputs": [
        {
          "output_type": "stream",
          "text": [
            "Enter the size of list 4\n",
            "2\n",
            "4\n",
            "\n",
            "\n",
            "['', '2', '4']\n"
          ],
          "name": "stdout"
        }
      ]
    },
    {
      "cell_type": "markdown",
      "metadata": {
        "id": "bCSP5-yjT9iq",
        "colab_type": "text"
      },
      "source": [
        "#python program to count number of elements in a list within specified range"
      ]
    },
    {
      "cell_type": "code",
      "metadata": {
        "id": "CIJGCmROUD_b",
        "colab_type": "code",
        "colab": {
          "base_uri": "https://localhost:8080/",
          "height": 136
        },
        "outputId": "1419cdc6-452f-48eb-fc05-8f0e47fa3226"
      },
      "source": [
        "n=int(input(\"Enter the size of list\"))\n",
        "a=[]\n",
        "b=[]\n",
        "for i in range(n):\n",
        "    a.append(input())\n",
        "x=int(input(\"Enter the 1st range\"))\n",
        "y=int(input(\"Enter the 2nd range\"))\n",
        "for i in range(x,y+1):\n",
        "    b.append(a[i])\n",
        "print(b)"
      ],
      "execution_count": 3,
      "outputs": [
        {
          "output_type": "stream",
          "text": [
            "Enter the size of list3\n",
            "1\n",
            "2\n",
            "3\n",
            "Enter the 1st range3\n",
            "Enter the 2nd range2\n",
            "[]\n"
          ],
          "name": "stdout"
        }
      ]
    },
    {
      "cell_type": "markdown",
      "metadata": {
        "id": "R-9kJzUKUPOP",
        "colab_type": "text"
      },
      "source": [
        "#python program to merge two dictionaries"
      ]
    },
    {
      "cell_type": "code",
      "metadata": {
        "id": "QlaBZRn3UUKq",
        "colab_type": "code",
        "colab": {
          "base_uri": "https://localhost:8080/",
          "height": 34
        },
        "outputId": "71ab8529-067f-4d7a-b9cc-ea6bb1c4d362"
      },
      "source": [
        "a={'a':1,'b':2}\n",
        "b={'c':3,'d':4}\n",
        "a.update(b)\n",
        "print(a)"
      ],
      "execution_count": 4,
      "outputs": [
        {
          "output_type": "stream",
          "text": [
            "{'a': 1, 'b': 2, 'c': 3, 'd': 4}\n"
          ],
          "name": "stdout"
        }
      ]
    },
    {
      "cell_type": "markdown",
      "metadata": {
        "id": "sJeRVIkbUYJU",
        "colab_type": "text"
      },
      "source": [
        "#python program to find highest 3 values in dictionary"
      ]
    },
    {
      "cell_type": "code",
      "metadata": {
        "id": "Jo691vUPUeZ5",
        "colab_type": "code",
        "colab": {
          "base_uri": "https://localhost:8080/",
          "height": 34
        },
        "outputId": "1bf537ba-7bfd-44ea-f82e-50dec34d3d4f"
      },
      "source": [
        "from heapq import nlargest\n",
        "a={'a':7889,'b':5332,'c':8645,'d':6778,'e':5789}\n",
        "b=nlargest(3,a,key=a.get)\n",
        "print(b)"
      ],
      "execution_count": 5,
      "outputs": [
        {
          "output_type": "stream",
          "text": [
            "['c', 'a', 'd']\n"
          ],
          "name": "stdout"
        }
      ]
    },
    {
      "cell_type": "markdown",
      "metadata": {
        "id": "xKPYSOCXUiiY",
        "colab_type": "text"
      },
      "source": [
        "#python program to convert tuple to a string"
      ]
    },
    {
      "cell_type": "code",
      "metadata": {
        "id": "5BPeWq-aUm3d",
        "colab_type": "code",
        "colab": {
          "base_uri": "https://localhost:8080/",
          "height": 34
        },
        "outputId": "b0331a14-6128-41a8-add9-5f0599329eab"
      },
      "source": [
        "t=('k','a','v','y','a')\n",
        "s=''.join(t)\n",
        "print(s)"
      ],
      "execution_count": 8,
      "outputs": [
        {
          "output_type": "stream",
          "text": [
            "kavya\n"
          ],
          "name": "stdout"
        }
      ]
    },
    {
      "cell_type": "markdown",
      "metadata": {
        "id": "LoVU4VKfUyRe",
        "colab_type": "text"
      },
      "source": [
        "#python program to remove existing indentation from all of the lines in a given text"
      ]
    },
    {
      "cell_type": "code",
      "metadata": {
        "id": "LiYdd99KUzKW",
        "colab_type": "code",
        "colab": {
          "base_uri": "https://localhost:8080/",
          "height": 122
        },
        "outputId": "f16a801a-d0ad-497e-fa65-293ef4d6756c"
      },
      "source": [
        "import textwrap\n",
        "sample_text = '''\n",
        "    Python is a widely used high-level, general-purpose, interpreted,dynamic programming language. Its design philosophy emphasizes code readability, and its syntax allows programmers to express\n",
        "    concepts in fewer lines of code than possible in languages such as C++ or Java. '''\n",
        "text_without_Indentation = textwrap.dedent(sample_text)\n",
        "print()\n",
        "print(text_without_Indentation )\n",
        "print()"
      ],
      "execution_count": 7,
      "outputs": [
        {
          "output_type": "stream",
          "text": [
            "\n",
            "\n",
            "Python is a widely used high-level, general-purpose, interpreted,dynamic programming language. Its design philosophy emphasizes code readability, and its syntax allows programmers to express\n",
            "concepts in fewer lines of code than possible in languages such as C++ or Java. \n",
            "\n"
          ],
          "name": "stdout"
        }
      ]
    }
  ]
}